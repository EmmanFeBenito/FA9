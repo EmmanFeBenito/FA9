{
 "cells": [
  {
   "cell_type": "code",
   "execution_count": 55,
   "id": "29e5c606-9ea4-497d-a477-2052d7c6faff",
   "metadata": {},
   "outputs": [
    {
     "name": "stdout",
     "output_type": "stream",
     "text": [
      "Descriptive Statistics\n",
      "                          AssocProf  AsstProf       Prof\n",
      "Valid                        13.000    19.000     46.000\n",
      "Missing                       0.000     0.000      0.000\n",
      "Median                   103613.000 78500.000 123321.500\n",
      "Mean                      91786.231 81362.789 123624.804\n",
      "Std. Error of Mean         5150.720  2152.205   3663.975\n",
      "Std. Deviation            18571.184  9381.245  24850.288\n",
      "Coefficient of variation      0.202     0.115      0.201\n",
      "Skewness                     -0.151     0.031      0.070\n",
      "Std. Error of Skewness        0.616     0.524      0.350\n",
      "Kurtosis                     -1.614    -1.011      0.201\n",
      "Std. Error of Kurtosis        1.191     1.014      0.688\n",
      "Minimum                   62884.000 63100.000  57800.000\n",
      "Maximum                  119800.000 97032.000 186960.000\n",
      "25th percentile           74830.000 74096.000 105112.500\n",
      "50th percentile          103613.000 78500.000 123321.500\n",
      "75th percentile          104542.000 91150.000 143512.250\n",
      "10th percentile           71512.000 72500.000  93675.000\n",
      "20th percentile           73912.000 73300.000 103275.000\n",
      "30th percentile           76432.000 74832.800 108473.000\n",
      "40th percentile           80528.000 77100.000 116450.000\n",
      "50th percentile          103613.000 78500.000 123321.500\n",
      "60th percentile          103798.800 84045.000 127512.000\n",
      "70th percentile          104213.200 89800.000 135889.000\n",
      "80th percentile          106021.600 91580.000 148750.000\n",
      "90th percentile          109121.600 92000.000 154750.000\n"
     ]
    }
   ],
   "source": [
    "import pandas as pd\n",
    "import numpy as np\n",
    "\n",
    "df = pd.read_csv(\"https://raw.githubusercontent.com/Apress/data-analysis-and-visualization-using-python/master/Ch07/Salaries.csv\")\n",
    "\n",
    "grouped_data = df.groupby('rank')['salary']\n",
    "\n",
    "columns = ['AssocProf', 'AsstProf', 'Prof']\n",
    "desc_stats = pd.DataFrame(columns=columns)\n",
    "\n",
    "desc_stats.loc['Valid'] = grouped_data.count()\n",
    "desc_stats.loc['Missing'] = grouped_data.apply(lambda x: x.isnull().sum())\n",
    "\n",
    "for column in columns:\n",
    "    desc_stats.loc['Median', column] = grouped_data.get_group(column).median()\n",
    "    desc_stats.loc['Mean', column] = grouped_data.get_group(column).mean()\n",
    "    desc_stats.loc['Std. Error of Mean', column] = grouped_data.get_group(column).sem()\n",
    "    desc_stats.loc['Std. Deviation', column] = grouped_data.get_group(column).std()\n",
    "    desc_stats.loc['Coefficient of variation', column] = desc_stats.loc['Std. Deviation', column] / desc_stats.loc['Mean', column]\n",
    "    desc_stats.loc['Skewness', column] = grouped_data.get_group(column).skew()\n",
    "    desc_stats.loc['Std. Error of Skewness', column] = np.sqrt(6.0 * desc_stats.loc['Valid', column] * (desc_stats.loc['Valid', column] - 1) / ((desc_stats.loc['Valid', column] - 2) * (desc_stats.loc['Valid', column] + 1) * (desc_stats.loc['Valid', column] + 3)))\n",
    "    desc_stats.loc['Kurtosis', column] = grouped_data.get_group(column).kurtosis()\n",
    "    desc_stats.loc['Std. Error of Kurtosis', column] = np.sqrt(24.0 * desc_stats.loc['Valid', column] * (desc_stats.loc['Valid', column] - 1) ** 2 / ((desc_stats.loc['Valid', column] - 3) * (desc_stats.loc['Valid', column] - 2) * (desc_stats.loc['Valid', column] + 3) * (desc_stats.loc['Valid', column] + 5)))\n",
    "    desc_stats.loc['Minimum', column] = grouped_data.get_group(column).min()\n",
    "    desc_stats.loc['Maximum', column] = grouped_data.get_group(column).max()\n",
    "    desc_stats.loc['25th percentile', column] = grouped_data.get_group(column).quantile(0.25)\n",
    "    desc_stats.loc['50th percentile', column] = grouped_data.get_group(column).quantile(0.5)\n",
    "    desc_stats.loc['75th percentile', column] = grouped_data.get_group(column).quantile(0.75)\n",
    "    desc_stats.loc['10th percentile', column] = grouped_data.get_group(column).quantile(0.1)\n",
    "    desc_stats.loc['20th percentile', column] = grouped_data.get_group(column).quantile(0.2)\n",
    "    desc_stats.loc['30th percentile', column] = grouped_data.get_group(column).quantile(0.3)\n",
    "    desc_stats.loc['40th percentile', column] = grouped_data.get_group(column).quantile(0.4)\n",
    "    desc_stats.loc['50th percentile ', column] = grouped_data.get_group(column).quantile(0.5)\n",
    "    desc_stats.loc['60th percentile', column] = grouped_data.get_group(column).quantile(0.6)\n",
    "    desc_stats.loc['70th percentile', column] = grouped_data.get_group(column).quantile(0.7)\n",
    "    desc_stats.loc['80th percentile', column] = grouped_data.get_group(column).quantile(0.8)\n",
    "    desc_stats.loc['90th percentile', column] = grouped_data.get_group(column).quantile(0.9)\n",
    "\n",
    "print(\"Descriptive Statistics\")\n",
    "print(desc_stats)\n"
   ]
  },
  {
   "cell_type": "code",
   "execution_count": null,
   "id": "a983bf3d-5947-4ff8-8e40-e0ffcd699287",
   "metadata": {},
   "outputs": [],
   "source": []
  }
 ],
 "metadata": {
  "kernelspec": {
   "display_name": "Python 3 (ipykernel)",
   "language": "python",
   "name": "python3"
  },
  "language_info": {
   "codemirror_mode": {
    "name": "ipython",
    "version": 3
   },
   "file_extension": ".py",
   "mimetype": "text/x-python",
   "name": "python",
   "nbconvert_exporter": "python",
   "pygments_lexer": "ipython3",
   "version": "3.12.1"
  }
 },
 "nbformat": 4,
 "nbformat_minor": 5
}
